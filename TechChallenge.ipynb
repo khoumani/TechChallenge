{
 "cells": [
  {
   "cell_type": "code",
   "execution_count": 1,
   "metadata": {
    "collapsed": false
   },
   "outputs": [],
   "source": [
    "import pandas as pd\n",
    "import matplotlib\n",
    "import matplotlib.pyplot as plt"
   ]
  },
  {
   "cell_type": "code",
   "execution_count": 2,
   "metadata": {
    "collapsed": false
   },
   "outputs": [],
   "source": [
    "file_bookings = \"Documents/bookings.csv.bz2\"\n",
    "file_searches = \"Documents/searches.csv.bz2\""
   ]
  },
  {
   "cell_type": "code",
   "execution_count": 3,
   "metadata": {
    "collapsed": false
   },
   "outputs": [],
   "source": [
    "data_bookings = pd.read_csv(file_bookings, sep=\"\\s*\\^\\s*\", compression=\"bz2\", chunksize=100000, engine='python')\n",
    "data_searches = pd.read_csv(file_searches, sep=\"^\", compression=\"bz2\", chunksize=100000)"
   ]
  },
  {
   "cell_type": "markdown",
   "metadata": {},
   "source": [
    "# Exercise 1"
   ]
  },
  {
   "cell_type": "code",
   "execution_count": 4,
   "metadata": {
    "collapsed": false
   },
   "outputs": [],
   "source": [
    "def get_number_lines(text_file_reader):\n",
    "    \"\"\" return number of lines \n",
    "    \n",
    "    takes asparameter a TextFileReader\n",
    "    \"\"\"\n",
    "    i = 0\n",
    "    print(\"Counting number of lines may take few minutes...\")\n",
    "    for chunk in data_searches:\n",
    "        print('.'),\n",
    "        i += chunk.shape[0]\n",
    "    return i"
   ]
  },
  {
   "cell_type": "code",
   "execution_count": 5,
   "metadata": {
    "collapsed": false
   },
   "outputs": [
    {
     "name": "stdout",
     "output_type": "stream",
     "text": [
      "Counting number of lines may take few minutes...\n",
      ". . . . . . . . . . . . . "
     ]
    },
    {
     "name": "stderr",
     "output_type": "stream",
     "text": [
      "C:\\Users\\Kenza\\Anaconda2\\lib\\site-packages\\IPython\\core\\interactiveshell.py:2902: DtypeWarning: Columns (44) have mixed types. Specify dtype option on import or set low_memory=False.\n",
      "  interactivity=interactivity, compiler=compiler, result=result)\n",
      "C:\\Users\\Kenza\\Anaconda2\\lib\\site-packages\\IPython\\core\\interactiveshell.py:2902: DtypeWarning: Columns (40,41,42,44) have mixed types. Specify dtype option on import or set low_memory=False.\n",
      "  interactivity=interactivity, compiler=compiler, result=result)\n"
     ]
    },
    {
     "name": "stdout",
     "output_type": "stream",
     "text": [
      ". . . . . . . . . . . . . . . . . . . . . . . . . . . . . . . . . . . . . . . . . . . . . . . . . . . . . . . . . . . . . . . . . . . . . . . . . . . . . . . . . . . . . . . . . . . . . . . . . . . . . . . . . . . . . . . . . . . . . . . . . . . . . . . . . . . . . . . . . . . . . . . . . . . . . . . . . . . . . . . . . . . . . . . . . . . . . . . . . . . . . . . . . . . . . . .\n"
     ]
    },
    {
     "name": "stderr",
     "output_type": "stream",
     "text": [
      "C:\\Users\\Kenza\\Anaconda2\\lib\\site-packages\\IPython\\core\\interactiveshell.py:2902: DtypeWarning: Columns (40,41,42) have mixed types. Specify dtype option on import or set low_memory=False.\n",
      "  interactivity=interactivity, compiler=compiler, result=result)\n"
     ]
    }
   ],
   "source": [
    "nb_bookings = get_number_lines(data_bookings)"
   ]
  },
  {
   "cell_type": "code",
   "execution_count": 6,
   "metadata": {
    "collapsed": false
   },
   "outputs": [
    {
     "name": "stdout",
     "output_type": "stream",
     "text": [
      "The number of lines in file Documents/bookings.csv.bz2 is 20390198\n"
     ]
    }
   ],
   "source": [
    "print(\"The number of lines in file {} is {}\".format(file_bookings, nb_bookings))"
   ]
  },
  {
   "cell_type": "code",
   "execution_count": 7,
   "metadata": {
    "collapsed": false
   },
   "outputs": [
    {
     "name": "stdout",
     "output_type": "stream",
     "text": [
      "Counting number of lines may take few minutes...\n"
     ]
    }
   ],
   "source": [
    "nb_searches = get_number_lines(data_searches)"
   ]
  },
  {
   "cell_type": "code",
   "execution_count": 8,
   "metadata": {
    "collapsed": false
   },
   "outputs": [
    {
     "name": "stdout",
     "output_type": "stream",
     "text": [
      "The number of lines in file Documents/searches.csv.bz2 is 0\n"
     ]
    }
   ],
   "source": [
    "print(\"The number of lines in file {} is {}\".format(file_searches, nb_searches))"
   ]
  },
  {
   "cell_type": "markdown",
   "metadata": {},
   "source": [
    "# Exercise 2"
   ]
  },
  {
   "cell_type": "code",
   "execution_count": 9,
   "metadata": {
    "collapsed": false
   },
   "outputs": [],
   "source": [
    "from GeoBases import GeoBase"
   ]
  },
  {
   "cell_type": "code",
   "execution_count": 10,
   "metadata": {
    "collapsed": false
   },
   "outputs": [],
   "source": [
    "geo = GeoBase(data='ori_por', verbose=False)"
   ]
  },
  {
   "cell_type": "code",
   "execution_count": 11,
   "metadata": {
    "collapsed": true
   },
   "outputs": [],
   "source": [
    "def get_top_arrival_airports(text_file_reader, n = 10):\n",
    "    \"\"\"\n",
    "    return the top n arrival airports\n",
    "    \n",
    "    takes as a parameter a TextFileReader\n",
    "    \"\"\"\n",
    "    print(\"Finding top 10 arrival airports may take few minutes...\")\n",
    "    grouped_chunks = list()\n",
    "    for chunk in text_file_reader:\n",
    "        grouped_chunks.append(chunk[['arr_port','pax']].groupby('arr_port', as_index=False).sum())\n",
    "    if len(grouped_chunks) != 0:\n",
    "        chunk_concat = pd.concat(grouped_chunks)\n",
    "        result = chunk_concat.groupby('arr_port', as_index=False).sum()\n",
    "        return result.nlargest(n, 'pax')"
   ]
  },
  {
   "cell_type": "code",
   "execution_count": 12,
   "metadata": {
    "collapsed": false
   },
   "outputs": [
    {
     "name": "stdout",
     "output_type": "stream",
     "text": [
      "Finding top 10 arrival airports may take few minutes...\n"
     ]
    },
    {
     "name": "stderr",
     "output_type": "stream",
     "text": [
      "C:\\Users\\Kenza\\Anaconda2\\lib\\site-packages\\IPython\\core\\interactiveshell.py:2902: DtypeWarning: Columns (7,8,27) have mixed types. Specify dtype option on import or set low_memory=False.\n",
      "  interactivity=interactivity, compiler=compiler, result=result)\n"
     ]
    }
   ],
   "source": [
    "top10_arr_port = get_top_arrival_airports(data_bookings, 10)"
   ]
  },
  {
   "cell_type": "code",
   "execution_count": 13,
   "metadata": {
    "collapsed": false
   },
   "outputs": [],
   "source": [
    "top10_arr_port['airport_name'] = map(lambda x: geo.get(x.strip(),'name', default='None'), top10_arr_port['arr_port'] )"
   ]
  },
  {
   "cell_type": "code",
   "execution_count": 14,
   "metadata": {
    "collapsed": false
   },
   "outputs": [
    {
     "name": "stdout",
     "output_type": "stream",
     "text": [
      "                         airport_name    pax\n",
      "              London Heathrow Airport  88809\n",
      "        Orlando International Airport  70930\n",
      "    Los Angeles International Airport  70530\n",
      "      Mc Carran International Airport  69630\n",
      " John F Kennedy International Airport  66270\n",
      "            Paris - Charles-de-Gaulle  64490\n",
      "                         Suvarnabhumi  59460\n",
      "          Miami International Airport  58150\n",
      "  San Francisco International Airport  58000\n",
      "          Dubai International Airport  55590\n"
     ]
    }
   ],
   "source": [
    "print(top10_arr_port[['airport_name', 'pax']].to_string(index=False))"
   ]
  },
  {
   "cell_type": "code",
   "execution_count": null,
   "metadata": {
    "collapsed": true
   },
   "outputs": [],
   "source": []
  }
 ],
 "metadata": {
  "kernelspec": {
   "display_name": "Python 2",
   "language": "python",
   "name": "python2"
  },
  "language_info": {
   "codemirror_mode": {
    "name": "ipython",
    "version": 2
   },
   "file_extension": ".py",
   "mimetype": "text/x-python",
   "name": "python",
   "nbconvert_exporter": "python",
   "pygments_lexer": "ipython2",
   "version": "2.7.11"
  }
 },
 "nbformat": 4,
 "nbformat_minor": 0
}
