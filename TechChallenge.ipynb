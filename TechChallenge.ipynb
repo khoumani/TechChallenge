{
 "cells": [
  {
   "cell_type": "code",
   "execution_count": 2,
   "metadata": {
    "collapsed": true
   },
   "outputs": [],
   "source": [
    "import pandas as pd\n",
    "import matplotlib\n",
    "import matplotlib.pyplot as plt"
   ]
  },
  {
   "cell_type": "code",
   "execution_count": 73,
   "metadata": {
    "collapsed": false
   },
   "outputs": [],
   "source": [
    "file_bookings = \"Documents/bookings.csv.bz2\"\n",
    "file_searches = \"Documents/searches.csv.bz2\"\n",
    "data_bookings = pd.read_csv(file_bookings, sep=\"^\", compression=\"bz2\", chunksize=100000)\n",
    "data_searches = pd.read_csv(file_searches, sep=\"^\", compression=\"bz2\", chunksize=100000)"
   ]
  },
  {
   "cell_type": "markdown",
   "metadata": {},
   "source": [
    "# Exercise 1"
   ]
  },
  {
   "cell_type": "code",
   "execution_count": 12,
   "metadata": {
    "collapsed": true
   },
   "outputs": [],
   "source": [
    "def get_number_lines(text_file_reader):\n",
    "    i = 0\n",
    "    print(\"Counting number of lines may take few minutes...\")\n",
    "    for chunk in text_file_reader:\n",
    "        i += chunk.shape[0]\n",
    "    return i"
   ]
  },
  {
   "cell_type": "code",
   "execution_count": 18,
   "metadata": {
    "collapsed": false
   },
   "outputs": [
    {
     "name": "stdout",
     "output_type": "stream",
     "text": [
      "Counting number of lines may take few minutes...\n"
     ]
    }
   ],
   "source": [
    "nb_bookings = get_number_lines(data_bookings)"
   ]
  },
  {
   "cell_type": "code",
   "execution_count": 19,
   "metadata": {
    "collapsed": false
   },
   "outputs": [
    {
     "name": "stdout",
     "output_type": "stream",
     "text": [
      "The number of lines in file Documents/bookings.csv.bz2 is 10000010\n"
     ]
    }
   ],
   "source": [
    "print(\"The number of lines in file {} is {}\".format(file_bookings, nb_bookings))"
   ]
  },
  {
   "cell_type": "code",
   "execution_count": 74,
   "metadata": {
    "collapsed": false
   },
   "outputs": [
    {
     "name": "stdout",
     "output_type": "stream",
     "text": [
      "Counting number of lines may take few minutes...\n"
     ]
    }
   ],
   "source": [
    "nb_searches = get_number_lines(data_searches)"
   ]
  },
  {
   "cell_type": "code",
   "execution_count": 75,
   "metadata": {
    "collapsed": false
   },
   "outputs": [
    {
     "name": "stdout",
     "output_type": "stream",
     "text": [
      "The number of lines in file Documents/searches.csv.bz2 is 20390198\n"
     ]
    }
   ],
   "source": [
    "print(\"The number of lines in file {} is {}\".format(file_searches, nb_searches))"
   ]
  },
  {
   "cell_type": "markdown",
   "metadata": {},
   "source": [
    "# Exercise 2"
   ]
  },
  {
   "cell_type": "code",
   "execution_count": 70,
   "metadata": {
    "collapsed": true
   },
   "outputs": [],
   "source": [
    "def get_top10_arrival_airports(text_file_reader):\n",
    "    print(\"Finding top 10 arrival airports may take few minutes...\")\n",
    "    grouped_chunks = list()\n",
    "    print(type(text_file_reader))\n",
    "    for chunk in text_file_reader:\n",
    "        grouped_chunks.append(chunk[['arr_port','pax']].groupby('arr_port', as_index=False).sum())\n",
    "    if len(grouped_chunks) != 0:\n",
    "        chunk_concat = pd.concat(grouped_chunks)\n",
    "        result = chunk_concat.groupby('arr_port', as_index=False).sum()\n",
    "        return result.nlargest(10, 'pax')"
   ]
  },
  {
   "cell_type": "code",
   "execution_count": 71,
   "metadata": {
    "collapsed": false
   },
   "outputs": [
    {
     "name": "stdout",
     "output_type": "stream",
     "text": [
      "Finding top 10 arrival airports may take few minutes...\n",
      "<class 'pandas.io.parsers.TextFileReader'>\n"
     ]
    }
   ],
   "source": [
    "data_bookings = pd.read_csv(file_bookings, sep=\"^\", compression=\"bz2\", chunksize=100000)\n",
    "top10_arr_port = get_top10_arrival_airports(data_bookings)"
   ]
  },
  {
   "cell_type": "code",
   "execution_count": 72,
   "metadata": {
    "collapsed": false
   },
   "outputs": [
    {
     "name": "stdout",
     "output_type": "stream",
     "text": [
      "      arr_port    pax\n",
      "1088  LHR       88809\n",
      "1190  MCO       70930\n",
      "1050  LAX       70530\n",
      "1047  LAS       69630\n",
      "886   JFK       66270\n",
      "315   CDG       64490\n",
      "216   BKK       59460\n",
      "1228  MIA       58150\n",
      "1719  SFO       58000\n",
      "517   DXB       55590\n"
     ]
    }
   ],
   "source": [
    "print(top10_arr_port)"
   ]
  },
  {
   "cell_type": "code",
   "execution_count": null,
   "metadata": {
    "collapsed": true
   },
   "outputs": [],
   "source": []
  }
 ],
 "metadata": {
  "kernelspec": {
   "display_name": "Python 2",
   "language": "python",
   "name": "python2"
  },
  "language_info": {
   "codemirror_mode": {
    "name": "ipython",
    "version": 2
   },
   "file_extension": ".py",
   "mimetype": "text/x-python",
   "name": "python",
   "nbconvert_exporter": "python",
   "pygments_lexer": "ipython2",
   "version": "2.7.11"
  }
 },
 "nbformat": 4,
 "nbformat_minor": 0
}
