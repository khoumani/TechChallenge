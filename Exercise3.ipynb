{
 "cells": [
  {
   "cell_type": "code",
   "execution_count": 1,
   "metadata": {
    "collapsed": true
   },
   "outputs": [],
   "source": [
    "import pandas as pd\n",
    "import matplotlib\n",
    "import matplotlib.pyplot as plt"
   ]
  },
  {
   "cell_type": "code",
   "execution_count": 2,
   "metadata": {
    "collapsed": true
   },
   "outputs": [],
   "source": [
    "file_bookings = \"Documents/bookings.csv.bz2\"\n",
    "file_searches = \"Documents/searches.csv.bz2\""
   ]
  },
  {
   "cell_type": "code",
   "execution_count": 3,
   "metadata": {
    "collapsed": true
   },
   "outputs": [],
   "source": [
    "from datetime import datetime\n",
    "data_searches = pd.read_csv(file_searches, sep=\"\\^|,\", compression=\"bz2\", chunksize=100000, engine='python')"
   ]
  },
  {
   "cell_type": "code",
   "execution_count": 4,
   "metadata": {
    "collapsed": true
   },
   "outputs": [],
   "source": [
    "def get_dataframe(data_reader):\n",
    "    i = 0\n",
    "    grouped_chunks = list()\n",
    "    for chunk in data_reader:\n",
    "        i += 1\n",
    "        print('.'),\n",
    "        chunk['Month'] = map(lambda x: (datetime.strptime(x,'%Y-%m-%d')).month, chunk['Date'])\n",
    "        p = chunk.loc[(chunk.Destination == 'MAD') | (chunk.Destination == 'BCN') | (chunk.Destination == 'AGP')]\n",
    "        grouped_chunks.append(p.groupby(['Destination', 'Month'], as_index=False).size())\n",
    "    chunk_concat = pd.concat(grouped_chunks)\n",
    "    f = pd.DataFrame(chunk_concat)\n",
    "    f.columns = ['size']\n",
    "    f.reset_index(level=0, inplace=True)\n",
    "    f.reset_index(level=0, inplace=True)\n",
    "    result = f.groupby(['Destination', 'Month'], as_index=False).sum()\n",
    "    return result"
   ]
  },
  {
   "cell_type": "code",
   "execution_count": 5,
   "metadata": {
    "collapsed": false
   },
   "outputs": [
    {
     "name": "stdout",
     "output_type": "stream",
     "text": [
      ". . . . . . . . . . . . . . . . . . . . . . . . . . . . . . . . . . . . . . . . . . . . . . . . . . . . . . . . . . . . . . . . . . . . . . . . . . . . . . . . . . . . . . . . . . . . . . . . . . . . . . . . . . . . . . . . . . . . . . . . . . . . . . . . . . . . . . . . . . . . . . . . . . . . . . . . . . . . . . . . . . . . . . . . . . . . . . . . . . . . . . . . . . . . . . . . . . . . . . . . . . . .\n"
     ]
    }
   ],
   "source": [
    "result = get_dataframe(data_searches)"
   ]
  },
  {
   "cell_type": "code",
   "execution_count": 6,
   "metadata": {
    "collapsed": false
   },
   "outputs": [
    {
     "name": "stdout",
     "output_type": "stream",
     "text": [
      "   Destination  Month   size\n",
      "0          AGP      1   9633\n",
      "1          AGP      2   8379\n",
      "2          AGP      3  10659\n",
      "3          AGP      4   8265\n",
      "4          AGP      5  10830\n",
      "5          AGP      6   7923\n",
      "6          AGP      7   8892\n",
      "7          AGP      8   7866\n",
      "8          AGP      9   8151\n",
      "9          AGP     10   6499\n",
      "10         AGP     11   6384\n",
      "11         AGP     12   3696\n",
      "12         BCN      1  29469\n",
      "13         BCN      2  28329\n",
      "14         BCN      3  30552\n",
      "15         BCN      4  31236\n",
      "16         BCN      5  28728\n",
      "17         BCN      6  26505\n",
      "18         BCN      7  29241\n",
      "19         BCN      8  27075\n",
      "20         BCN      9  23427\n",
      "21         BCN     10  20276\n",
      "22         BCN     11  19824\n",
      "23         BCN     12  15400\n",
      "24         MAD      1  24258\n",
      "25         MAD      2  22800\n",
      "26         MAD      3  24681\n",
      "27         MAD      4  25251\n",
      "28         MAD      5  26334\n",
      "29         MAD      6  22800\n",
      "30         MAD      7  22971\n",
      "31         MAD      8  21831\n",
      "32         MAD      9  21147\n",
      "33         MAD     10  22294\n",
      "34         MAD     11  20272\n",
      "35         MAD     12  14504\n"
     ]
    }
   ],
   "source": [
    "print result"
   ]
  },
  {
   "cell_type": "code",
   "execution_count": 8,
   "metadata": {
    "collapsed": false
   },
   "outputs": [
    {
     "data": {
      "text/plain": [
       "<matplotlib.text.Text at 0xe744668>"
      ]
     },
     "execution_count": 8,
     "metadata": {},
     "output_type": "execute_result"
    },
    {
     "data": {
      "image/png": "[encoded data removed]",
      "text/plain": [
       "<matplotlib.figure.Figure at 0xc0d35f8>"
      ]
     },
     "metadata": {},
     "output_type": "display_data"
    }
   ],
   "source": [
    "%matplotlib inline\n",
    "labels_iata = ['Malaga','Barcelona','Madrid']\n",
    "ax = result.loc[result.Destination == 'AGP'].plot(x='Month')\n",
    "result.loc[result.Destination == 'BCN'].plot(x='Month', ax=ax)\n",
    "result.loc[result.Destination == 'MAD'].plot(x='Month',ax=ax)\n",
    "plt.title('Monthly number of searches for flights')\n",
    "ax.legend(labels_iata)\n",
    "ax.set_ylabel(\"Monthly number of searches\")"
   ]
  },
  {
   "cell_type": "code",
   "execution_count": null,
   "metadata": {
    "collapsed": true
   },
   "outputs": [],
   "source": []
  }
 ],
 "metadata": {
  "kernelspec": {
   "display_name": "Python 2",
   "language": "python",
   "name": "python2"
  },
  "language_info": {
   "codemirror_mode": {
    "name": "ipython",
    "version": 2
   },
   "file_extension": ".py",
   "mimetype": "text/x-python",
   "name": "python",
   "nbconvert_exporter": "python",
   "pygments_lexer": "ipython2",
   "version": "2.7.11"
  }
 },
 "nbformat": 4,
 "nbformat_minor": 0
}
