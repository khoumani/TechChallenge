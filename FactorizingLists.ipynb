{
 "cells": [
  {
   "cell_type": "code",
   "execution_count": 1,
   "metadata": {
    "collapsed": true
   },
   "outputs": [],
   "source": [
    "def find_common_starting_string(list_words):\n",
    "    \"\"\"\n",
    "    return the common string    \"\"\"\n",
    "    common = list_words[0]\n",
    "    for word in list_words[1:]:\n",
    "        i = 0\n",
    "        while (i < len(word) and i < len(common)):\n",
    "            if(common[i] != word[i]):\n",
    "                break\n",
    "            i += 1\n",
    "        common = common[:i]\n",
    "    return common"
   ]
  },
  {
   "cell_type": "code",
   "execution_count": 2,
   "metadata": {
    "collapsed": true
   },
   "outputs": [],
   "source": [
    "def extract_factorized_expression(list_words, common):\n",
    "    \"\"\"\n",
    "    return the factorized expression    \"\"\"\n",
    "    s = common\n",
    "    list_non_common = list()\n",
    "    for word in list_words:\n",
    "        i = 0\n",
    "        for letter in common:\n",
    "            if(letter != word[i]):\n",
    "                print word[i:]\n",
    "                break\n",
    "            i += 1\n",
    "        list_non_common.append(word[i:])\n",
    "    return common + '{' + ','.join(list_non_common) + '}'"
   ]
  },
  {
   "cell_type": "code",
   "execution_count": 3,
   "metadata": {
    "collapsed": true
   },
   "outputs": [],
   "source": [
    "def factorize_list_of_strings(list_words):\n",
    "    common = find_common_starting_string(list_words)\n",
    "    return extract_factorized_expression(list_words, common)"
   ]
  },
  {
   "cell_type": "markdown",
   "metadata": {},
   "source": [
    "# Tests"
   ]
  },
  {
   "cell_type": "code",
   "execution_count": 4,
   "metadata": {
    "collapsed": false
   },
   "outputs": [
    {
     "data": {
      "text/plain": [
       "'th{us,e,read,ought,rough}'"
      ]
     },
     "execution_count": 4,
     "metadata": {},
     "output_type": "execute_result"
    }
   ],
   "source": [
    "list_words = ['thus', 'the', 'thread', 'thought', 'through']   #normal test case\n",
    "factorize_list_of_strings(list_words)"
   ]
  },
  {
   "cell_type": "code",
   "execution_count": 6,
   "metadata": {
    "collapsed": false
   },
   "outputs": [
    {
     "data": {
      "text/plain": [
       "'{thus,the,,thought,through}'"
      ]
     },
     "execution_count": 6,
     "metadata": {},
     "output_type": "execute_result"
    }
   ],
   "source": [
    "list_words = ['thus', 'the', '', 'thought', 'through']  #test list containing an empty string\n",
    "factorize_list_of_strings(list_words)"
   ]
  },
  {
   "cell_type": "code",
   "execution_count": 13,
   "metadata": {
    "collapsed": false
   },
   "outputs": [
    {
     "data": {
      "text/plain": [
       "'th{us,eiuygjhkkllmetgfferuyuiujkmlmkyyhoiuiklmm:jhgyujhu p^pouiuytrfghu,jkopij,ought,rough}'"
      ]
     },
     "execution_count": 13,
     "metadata": {},
     "output_type": "execute_result"
    }
   ],
   "source": [
    "list_words = ['thus', 'theiuygjhkkllmetgfferuyuiujkmlmkyyhoiuiklmm:jhgyujhu p^pouiuytrfghu', 'thjkopij', 'thought', 'through']  #large string\n",
    "factorize_list_of_strings(list_words)"
   ]
  },
  {
   "cell_type": "code",
   "execution_count": 14,
   "metadata": {
    "collapsed": false
   },
   "outputs": [
    {
     "data": {
      "text/plain": [
       "'thus{,}'"
      ]
     },
     "execution_count": 14,
     "metadata": {},
     "output_type": "execute_result"
    }
   ],
   "source": [
    "list_words = ['thus','thus']\n",
    "factorize_list_of_strings(list_words)"
   ]
  },
  {
   "cell_type": "code",
   "execution_count": null,
   "metadata": {
    "collapsed": true
   },
   "outputs": [],
   "source": []
  }
 ],
 "metadata": {
  "kernelspec": {
   "display_name": "Python 2",
   "language": "python",
   "name": "python2"
  },
  "language_info": {
   "codemirror_mode": {
    "name": "ipython",
    "version": 2
   },
   "file_extension": ".py",
   "mimetype": "text/x-python",
   "name": "python",
   "nbconvert_exporter": "python",
   "pygments_lexer": "ipython2",
   "version": "2.7.11"
  }
 },
 "nbformat": 4,
 "nbformat_minor": 0
}
